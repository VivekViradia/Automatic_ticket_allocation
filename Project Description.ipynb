{
 "cells": [
  {
   "cell_type": "markdown",
   "id": "3816c5c8",
   "metadata": {},
   "source": [
    "<h1>AUTOMATIC TICKET ASSIGNMENT</h1>\n",
    "The Real Problem\n",
    "\n",
    "One of the key activities of any IT function is to “Keep the lights on” to ensure there is no impact to the Business operations. \n",
    "IT leverages Incident Management process to achieve the above Objective. An incident is something that is unplanned interruption to an IT service or reduction in the quality of an IT service that affects the Users and the Business. The main goal of Incident Management process is to provide a quick fix / workarounds or solutions that resolves the\n",
    "interruption and restores the service to its full capacity to ensure no business impact. In most of the organizations, incidents are created by various Business and IT Users, End Users/ Vendors if they have access to ticketing systems, and from the integrated monitoring systems and tools. \n",
    "\n",
    "\n",
    "Assigning the incidents to the appropriate person or unit in the support team has critical importance to provide improved user satisfaction while ensuring better allocation of support resources.\n",
    "The assignment of incidents to appropriate IT groups is still a manual process in many of the IT organizations. \n",
    "Manual assignment of incidents is time consuming and requires human efforts. There may be mistakes due to human errors and resource consumption is carried out ineffectively because of the misaddressing.\n",
    "On the other hand, manual assignment increases the response and resolution times\n",
    "which result in user satisfaction deterioration / poor customer service.\n",
    "Business Domain Value In the support process, incoming incidents are analyzed and assessed by organization’s support teams to\n",
    "\n",
    "\n",
    "fulfill the request. In many organizations, better allocation and effective usage of the valuable support\n",
    "resources will directly result in substantial cost savings.\n",
    "Currently the incidents are created by various stakeholders (Business Users, IT Users and Monitoring\n",
    "Tools) within IT Service Management Tool and are assigned to Service Desk teams (L1 / L2 teams). This\n",
    "team will review the incidents for right ticket categorization, priorities and then carry out initial\n",
    "diagnosis to see if they can resolve. Around ~54% of the incidents are resolved by L1 / L2 teams. Incase\n",
    "L1 / L2 is unable to resolve, they will then escalate / assign the tickets to Functional teams from\n",
    "Applications and Infrastructure (L3 teams). Some portions of incidents are directly assigned to L3 teams\n",
    "by either Monitoring tools or Callers / Requestors. L3 teams will carry out detailed diagnosis and resolve the incidents. Around ~56% of incidents are resolved by Functional / L3 teams. Incase if vendor support is needed, they will reach out for their support towards incident closure. L1 / L2 needs to spend time reviewing Standard Operating Procedures (SOPs) before assigning to Functional teams (Minimum ~25-30% of incidents needs to be reviewed for SOPs before ticket assignment). 15 min is being spent for SOP review for each incident. Minimum of ~1 FTE effort needed\n",
    "only for incident assignment to L3 teams.\n",
    "\n",
    "During the process of incident assignments by L1 / L2 teams to functional groups, there were multiple\n",
    "instances of incidents getting assigned to wrong functional groups. Around ~25% of Incidents are\n",
    "wrongly assigned to functional teams. Additional effort needed for Functional teams to re-assign to right\n",
    "functional groups. During this process, some of the incidents are in queue and not addressed timely\n",
    "resulting in poor customer service.\n"
   ]
  },
  {
   "cell_type": "code",
   "execution_count": null,
   "id": "6d09c995",
   "metadata": {},
   "outputs": [],
   "source": []
  }
 ],
 "metadata": {
  "kernelspec": {
   "display_name": "Python 3 (ipykernel)",
   "language": "python",
   "name": "python3"
  },
  "language_info": {
   "codemirror_mode": {
    "name": "ipython",
    "version": 3
   },
   "file_extension": ".py",
   "mimetype": "text/x-python",
   "name": "python",
   "nbconvert_exporter": "python",
   "pygments_lexer": "ipython3",
   "version": "3.9.7"
  }
 },
 "nbformat": 4,
 "nbformat_minor": 5
}
